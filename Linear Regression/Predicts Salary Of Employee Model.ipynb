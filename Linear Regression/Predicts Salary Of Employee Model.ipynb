{
 "cells": [
  {
   "cell_type": "markdown",
   "id": "643ec98c",
   "metadata": {},
   "source": [
    "#### Predicts Salary Of Employee Model"
   ]
  },
  {
   "cell_type": "code",
   "execution_count": null,
   "id": "17ca5351",
   "metadata": {
    "vscode": {
     "languageId": "plaintext"
    }
   },
   "outputs": [],
   "source": [
    "import pandas as pd"
   ]
  }
 ],
 "metadata": {
  "language_info": {
   "name": "python"
  }
 },
 "nbformat": 4,
 "nbformat_minor": 5
}
